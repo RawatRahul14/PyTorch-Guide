{
 "cells": [
  {
   "cell_type": "code",
   "execution_count": 1,
   "metadata": {},
   "outputs": [],
   "source": [
    "import os\n",
    "import torch\n",
    "import torchvision\n",
    "from torchvision.transforms import transforms\n",
    "from torchvision import datasets\n",
    "import torch.functional as F"
   ]
  },
  {
   "cell_type": "code",
   "execution_count": 2,
   "metadata": {},
   "outputs": [],
   "source": [
    "training_transforms = transforms.Compose([\n",
    "    transforms.Resize((28, 28)),\n",
    "    transforms.ToTensor()\n",
    "])"
   ]
  },
  {
   "cell_type": "code",
   "execution_count": 3,
   "metadata": {},
   "outputs": [],
   "source": [
    "# Download and load the dataset\n",
    "train_dataset = datasets.MNIST(root = './data', train = True, download = True, transform = training_transforms)"
   ]
  },
  {
   "cell_type": "code",
   "execution_count": 4,
   "metadata": {},
   "outputs": [],
   "source": [
    "train_loader = torch.utils.data.DataLoader(\n",
    "    dataset = train_dataset,\n",
    "    batch_size = 128,\n",
    "    shuffle = True\n",
    ")"
   ]
  },
  {
   "cell_type": "code",
   "execution_count": 5,
   "metadata": {},
   "outputs": [
    {
     "name": "stdout",
     "output_type": "stream",
     "text": [
      "torch.Size([128, 1, 28, 28])\n"
     ]
    }
   ],
   "source": [
    "for img, _ in train_loader:\n",
    "    print(img.size())\n",
    "    break"
   ]
  },
  {
   "cell_type": "code",
   "execution_count": 6,
   "metadata": {},
   "outputs": [],
   "source": [
    "def get_mean_std(loader):\n",
    "\n",
    "    mean = 0\n",
    "    std = 0\n",
    "    total_image_count = 0\n",
    "\n",
    "    for images, _ in loader:\n",
    "        image_count_in_a_batch = images.size(0)\n",
    "        images = images.view(image_count_in_a_batch, 28*28)\n",
    "        mean += images.mean(1).sum(0)\n",
    "        std += images.std(1).sum(0)\n",
    "        total_image_count += image_count_in_a_batch\n",
    "\n",
    "    mean /= total_image_count\n",
    "    std /= total_image_count\n",
    "\n",
    "    return mean, std"
   ]
  },
  {
   "cell_type": "code",
   "execution_count": 7,
   "metadata": {},
   "outputs": [
    {
     "data": {
      "text/plain": [
       "(tensor(0.1307), tensor(0.3015))"
      ]
     },
     "execution_count": 7,
     "metadata": {},
     "output_type": "execute_result"
    }
   ],
   "source": [
    "get_mean_std(train_loader)"
   ]
  },
  {
   "cell_type": "code",
   "execution_count": 8,
   "metadata": {},
   "outputs": [],
   "source": [
    "import torchvision\n",
    "import torch\n",
    "import torchvision.transforms as transforms\n",
    "import os\n",
    "import matplotlib.pyplot as plt\n",
    "import numpy as np"
   ]
  },
  {
   "cell_type": "code",
   "execution_count": 9,
   "metadata": {},
   "outputs": [],
   "source": [
    "mean = [0.1307]\n",
    "std = [0.3015]\n",
    "\n",
    "train_transforms = transforms.Compose([\n",
    "    # Reshaping all the images to 28 X 28 size\n",
    "    transforms.Resize((28, 28)),\n",
    "    transforms.RandomHorizontalFlip(), # If we are not passing any values,\n",
    "                                       # It will by default Flip the images with 50% prob.\n",
    "    transforms.RandomRotation(10), # Random Rotation to 10 degrees\n",
    "    # Changing the data type from numpy array to tensor\n",
    "    transforms.ToTensor(),\n",
    "    # Normalizing the images using the mean and std that we found in the previous part\n",
    "    transforms.Normalize(torch.Tensor(mean), torch.Tensor(std))\n",
    "])\n",
    "\n",
    "# In the test dataset we do not need to do augmentation\n",
    "test_transforms = transforms.Compose([\n",
    "    transforms.Resize((28, 28)),\n",
    "    transforms.ToTensor(),\n",
    "    transforms.Normalize(torch.Tensor(mean), torch.Tensor(std))\n",
    "])"
   ]
  },
  {
   "cell_type": "code",
   "execution_count": 10,
   "metadata": {},
   "outputs": [],
   "source": [
    "# Download and load the dataset\n",
    "train_dataset = datasets.MNIST(root = './data', train = True, transform = training_transforms)\n",
    "test_dataset = datasets.MNIST(root = './data', train = False, transform = test_transforms)"
   ]
  },
  {
   "cell_type": "code",
   "execution_count": 11,
   "metadata": {},
   "outputs": [],
   "source": [
    "# Making a custom Loader\n",
    "train_data_loader = torch.utils.data.DataLoader(\n",
    "    train_dataset,\n",
    "    batch_size = 64,\n",
    "    shuffle = True\n",
    ")\n",
    "\n",
    "test_data_loader = torch.utils.data.DataLoader(\n",
    "    test_dataset,\n",
    "    batch_size = 64,\n",
    "    shuffle = False\n",
    ")"
   ]
  },
  {
   "cell_type": "code",
   "execution_count": 12,
   "metadata": {},
   "outputs": [
    {
     "name": "stdout",
     "output_type": "stream",
     "text": [
      "cuda\n"
     ]
    }
   ],
   "source": [
    "device = \"cuda\" if torch.cuda.is_available() else \"cpu\"\n",
    "print(device)"
   ]
  },
  {
   "cell_type": "markdown",
   "metadata": {},
   "source": [
    "Neural Network"
   ]
  },
  {
   "cell_type": "code",
   "execution_count": 13,
   "metadata": {},
   "outputs": [],
   "source": [
    "import torch.nn as nn"
   ]
  },
  {
   "cell_type": "code",
   "execution_count": 14,
   "metadata": {},
   "outputs": [],
   "source": [
    "class MnistModel(nn.Module):\n",
    "    def __init__(self, input_size, num_classes):\n",
    "        super().__init__()\n",
    "        self.linear = nn.Linear(input_size, num_classes)\n",
    "\n",
    "    def forward(self, images):\n",
    "        batch_size = images.size(0)\n",
    "        images = images.reshape(batch_size, -1)\n",
    "        out = self.linear(images)\n",
    "        return out"
   ]
  },
  {
   "cell_type": "code",
   "execution_count": 15,
   "metadata": {},
   "outputs": [],
   "source": [
    "input_size = 28*28\n",
    "num_classes = 10"
   ]
  },
  {
   "cell_type": "code",
   "execution_count": 16,
   "metadata": {},
   "outputs": [],
   "source": [
    "model = MnistModel(input_size, num_classes)"
   ]
  },
  {
   "cell_type": "code",
   "execution_count": 17,
   "metadata": {},
   "outputs": [],
   "source": [
    "model = model.to(device)"
   ]
  },
  {
   "cell_type": "code",
   "execution_count": 18,
   "metadata": {},
   "outputs": [],
   "source": [
    "loss_fn = nn.CrossEntropyLoss()"
   ]
  },
  {
   "cell_type": "code",
   "execution_count": 19,
   "metadata": {},
   "outputs": [],
   "source": [
    "optimizer = torch.optim.SGD(\n",
    "    model.parameters(),\n",
    "    lr = 1e-3,\n",
    "    momentum = 0.9,\n",
    "    weight_decay = 0.03\n",
    ")"
   ]
  },
  {
   "cell_type": "code",
   "execution_count": 20,
   "metadata": {},
   "outputs": [],
   "source": [
    "def evaluate_model_test(model, test_data_loader):\n",
    "\n",
    "    model.eval()\n",
    "\n",
    "    predicted_correctly_on_epoch = 0\n",
    "    total = 0\n",
    "\n",
    "    with torch.no_grad():\n",
    "        for data in test_data_loader:\n",
    "            images, labels = data\n",
    "\n",
    "            images = images.to(device)\n",
    "            labels = labels.to(device)\n",
    "\n",
    "            total += labels.size(0)\n",
    "\n",
    "            outputs = model(images)\n",
    "\n",
    "            _, predicted = torch.max(outputs.data, 1)\n",
    "\n",
    "            predicted_correctly_on_epoch += (predicted == labels).sum().item()\n",
    "    \n",
    "    epoch_acc = 100.0 * predicted_correctly_on_epoch / total\n",
    "\n",
    "    print(\"\\t\\t- Testing dataset. Got %d out of %d images correctly (%.3f%%)\" % (predicted_correctly_on_epoch, total, epoch_acc))\n",
    "\n",
    "    return epoch_acc"
   ]
  },
  {
   "cell_type": "code",
   "execution_count": 21,
   "metadata": {},
   "outputs": [],
   "source": [
    "def save_checkpoint(model, epoch, optimizer, best_acc):\n",
    "    state = {\n",
    "        \"epoch\": epoch+1,\n",
    "        \"model\": model.state_dict(),\n",
    "        \"best accuracy\": best_acc,\n",
    "        \"optimizer\": optimizer\n",
    "    }\n",
    "\n",
    "    torch.save(state, \"mnist-logistic-2.pth.tar\")"
   ]
  },
  {
   "cell_type": "code",
   "execution_count": 24,
   "metadata": {},
   "outputs": [],
   "source": [
    "def train_nn(model, train_data_loader, test_data_loader, criterion, optimizer, n_epochs):\n",
    "\n",
    "    for epoch in range(n_epochs):\n",
    "        print(\"Epoch Number %d\" %(epoch+1))\n",
    "        \n",
    "        model.train()\n",
    "\n",
    "        running_loss = 0\n",
    "        running_correct = 0\n",
    "        total = 0\n",
    "        best_acc = 0\n",
    "\n",
    "        for data in train_data_loader:\n",
    "\n",
    "            images, labels = data\n",
    "\n",
    "            images = images.to(device)\n",
    "            labels = labels.to(device)\n",
    "\n",
    "            total += labels.size(0)\n",
    "\n",
    "            optimizer.zero_grad()\n",
    "\n",
    "            outputs = model(images)\n",
    "\n",
    "            _, pred = torch.max(outputs.data, 1)\n",
    "\n",
    "            loss = criterion(outputs, labels)\n",
    "\n",
    "            loss.backward()\n",
    "\n",
    "            optimizer.step()\n",
    "\n",
    "            running_loss += loss.item()\n",
    "\n",
    "            running_correct += (labels == pred).sum().item()\n",
    "        \n",
    "        epoch_loss = running_loss / len(train_loader)\n",
    "\n",
    "        epoch_acc = 100 * running_correct / total\n",
    "\n",
    "        print(\"\\t\\t- Training dataset. Got %d out of %d images correctly (%.3f%%). Epoch loss: %.3f\"\n",
    "              % (running_correct, total, epoch_acc, epoch_loss))\n",
    "        \n",
    "        test_dataset_acc = evaluate_model_test(model, test_data_loader)\n",
    "\n",
    "        if (test_dataset_acc > best_acc):\n",
    "            best_acc = test_dataset_acc\n",
    "            save_checkpoint(model, epoch, optimizer, best_acc)\n",
    "\n",
    "    # Print a message when the training ia completed\n",
    "    print(\"Finished\")\n",
    "\n",
    "    # Return the training model\n",
    "    return model"
   ]
  },
  {
   "cell_type": "code",
   "execution_count": 25,
   "metadata": {},
   "outputs": [
    {
     "name": "stdout",
     "output_type": "stream",
     "text": [
      "Epoch Number 1\n",
      "\t\t- Training dataset. Got 51801 out of 60000 images correctly (86.335%). Epoch loss: 1.250\n",
      "\t\t- Testing dataset. Got 8624 out of 10000 images correctly (86.240%)\n",
      "Epoch Number 2\n",
      "\t\t- Training dataset. Got 52444 out of 60000 images correctly (87.407%). Epoch loss: 1.141\n",
      "\t\t- Testing dataset. Got 8676 out of 10000 images correctly (86.760%)\n",
      "Epoch Number 3\n",
      "\t\t- Training dataset. Got 52706 out of 60000 images correctly (87.843%). Epoch loss: 1.102\n",
      "\t\t- Testing dataset. Got 8695 out of 10000 images correctly (86.950%)\n",
      "Epoch Number 4\n",
      "\t\t- Training dataset. Got 52843 out of 60000 images correctly (88.072%). Epoch loss: 1.085\n",
      "\t\t- Testing dataset. Got 8703 out of 10000 images correctly (87.030%)\n",
      "Epoch Number 5\n",
      "\t\t- Training dataset. Got 52938 out of 60000 images correctly (88.230%). Epoch loss: 1.076\n",
      "\t\t- Testing dataset. Got 8728 out of 10000 images correctly (87.280%)\n",
      "Epoch Number 6\n",
      "\t\t- Training dataset. Got 53000 out of 60000 images correctly (88.333%). Epoch loss: 1.071\n",
      "\t\t- Testing dataset. Got 8722 out of 10000 images correctly (87.220%)\n",
      "Epoch Number 7\n",
      "\t\t- Training dataset. Got 53001 out of 60000 images correctly (88.335%). Epoch loss: 1.068\n",
      "\t\t- Testing dataset. Got 8744 out of 10000 images correctly (87.440%)\n",
      "Epoch Number 8\n",
      "\t\t- Training dataset. Got 53041 out of 60000 images correctly (88.402%). Epoch loss: 1.066\n",
      "\t\t- Testing dataset. Got 8724 out of 10000 images correctly (87.240%)\n",
      "Epoch Number 9\n",
      "\t\t- Training dataset. Got 53036 out of 60000 images correctly (88.393%). Epoch loss: 1.066\n",
      "\t\t- Testing dataset. Got 8728 out of 10000 images correctly (87.280%)\n",
      "Epoch Number 10\n",
      "\t\t- Training dataset. Got 53045 out of 60000 images correctly (88.408%). Epoch loss: 1.065\n",
      "\t\t- Testing dataset. Got 8710 out of 10000 images correctly (87.100%)\n",
      "Finished\n"
     ]
    }
   ],
   "source": [
    "model = train_nn(model = model,\n",
    "                 train_data_loader = train_data_loader,\n",
    "                 test_data_loader = test_data_loader,\n",
    "                 criterion = loss_fn,\n",
    "                 optimizer = optimizer,\n",
    "                 n_epochs = 10)"
   ]
  }
 ],
 "metadata": {
  "kernelspec": {
   "display_name": "Python 3",
   "language": "python",
   "name": "python3"
  },
  "language_info": {
   "codemirror_mode": {
    "name": "ipython",
    "version": 3
   },
   "file_extension": ".py",
   "mimetype": "text/x-python",
   "name": "python",
   "nbconvert_exporter": "python",
   "pygments_lexer": "ipython3",
   "version": "3.11.8"
  }
 },
 "nbformat": 4,
 "nbformat_minor": 2
}
