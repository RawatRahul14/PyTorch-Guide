{
 "cells": [
  {
   "cell_type": "code",
   "execution_count": 1,
   "metadata": {},
   "outputs": [],
   "source": [
    "# Importing the necessary packages\n",
    "import torch\n",
    "import torchvision\n",
    "from torchvision import datasets, transforms\n",
    "from torch.utils.data import random_split\n",
    "from torch.utils.data import DataLoader\n",
    "import torch.nn.functional as F\n",
    "import torch.nn as nn\n",
    "\n",
    "import matplotlib.pyplot as plt\n",
    "%matplotlib inline"
   ]
  },
  {
   "cell_type": "code",
   "execution_count": 2,
   "metadata": {},
   "outputs": [],
   "source": [
    "# Download and load the dataset\n",
    "train_dataset = datasets.MNIST(root = './data', train = True, download = True)\n",
    "test_dataset = datasets.MNIST(root = './data', train = False, download = True)"
   ]
  },
  {
   "cell_type": "code",
   "execution_count": 3,
   "metadata": {},
   "outputs": [
    {
     "name": "stdout",
     "output_type": "stream",
     "text": [
      "Length of the Training dataset: 60000\n",
      "Length of the Testing dataset: 10000\n"
     ]
    }
   ],
   "source": [
    "train_len = len(train_dataset)\n",
    "test_len = len(test_dataset)\n",
    "\n",
    "print(f\"Length of the Training dataset: {train_len}\")\n",
    "print(f\"Length of the Testing dataset: {test_len}\")"
   ]
  },
  {
   "cell_type": "code",
   "execution_count": 4,
   "metadata": {},
   "outputs": [],
   "source": [
    "# Plotting the image from the training dataset\n",
    "def plot_img(idx):\n",
    "    # Getting the image and label\n",
    "    image, label = train_dataset[idx]\n",
    "\n",
    "    # Plotting the image using the `imshow` function from the matplotlib\n",
    "    plt.imshow(image, cmap = \"gray\")\n",
    "\n",
    "    # printing the label\n",
    "    print(f\"Image Label: {label}\")"
   ]
  },
  {
   "cell_type": "code",
   "execution_count": 5,
   "metadata": {},
   "outputs": [
    {
     "name": "stdout",
     "output_type": "stream",
     "text": [
      "Image Label: 5\n"
     ]
    },
    {
     "data": {
      "image/png": "[encoded data removed]",
      "text/plain": [
       "<Figure size 640x480 with 1 Axes>"
      ]
     },
     "metadata": {},
     "output_type": "display_data"
    }
   ],
   "source": [
    "# Plotting the 1st image\n",
    "plot_img(idx = 0)"
   ]
  },
  {
   "cell_type": "code",
   "execution_count": 6,
   "metadata": {},
   "outputs": [
    {
     "name": "stdout",
     "output_type": "stream",
     "text": [
      "Image Label: 3\n"
     ]
    },
    {
     "data": {
      "image/png": "[encoded data removed]",
      "text/plain": [
       "<Figure size 640x480 with 1 Axes>"
      ]
     },
     "metadata": {},
     "output_type": "display_data"
    }
   ],
   "source": [
    "# Plotting the 11th image\n",
    "plot_img(idx = 10)"
   ]
  },
  {
   "cell_type": "markdown",
   "metadata": {},
   "source": [
    "PyTorch model's are used on Tensors rather than the numpy data type.\n",
    "\n",
    "Thus, the we have to change the data type of the image to tensor during the download process, by using `transforms.ToTensor()`."
   ]
  },
  {
   "cell_type": "code",
   "execution_count": 7,
   "metadata": {},
   "outputs": [],
   "source": [
    "# There is no need to download the dataset again as it is already downloaded\n",
    "dataset = datasets.MNIST(root = \"./data\",\n",
    "                         train = True,\n",
    "                         transform = transforms.ToTensor())"
   ]
  },
  {
   "cell_type": "code",
   "execution_count": 8,
   "metadata": {},
   "outputs": [
    {
     "name": "stdout",
     "output_type": "stream",
     "text": [
      "Shape of the Image: torch.Size([1, 28, 28])\n",
      "Label for the image: 5\n"
     ]
    }
   ],
   "source": [
    "img_tensor, label = dataset[0]\n",
    "print(f\"Shape of the Image: {img_tensor.shape}\")\n",
    "print(f\"Label for the image: {label}\")"
   ]
  },
  {
   "cell_type": "code",
   "execution_count": 9,
   "metadata": {},
   "outputs": [
    {
     "name": "stdout",
     "output_type": "stream",
     "text": [
      "tensor([[0.0039, 0.6039, 0.9922, 0.3529, 0.0000],\n",
      "        [0.0000, 0.5451, 0.9922, 0.7451, 0.0078],\n",
      "        [0.0000, 0.0431, 0.7451, 0.9922, 0.2745],\n",
      "        [0.0000, 0.0000, 0.1373, 0.9451, 0.8824],\n",
      "        [0.0000, 0.0000, 0.0000, 0.3176, 0.9412]])\n",
      "tensor(1.) tensor(0.)\n"
     ]
    }
   ],
   "source": [
    "# Printing a portion of the image\n",
    "print(img_tensor[0, 10:15, 10:15])\n",
    "\n",
    "# Printing the maximum and minimum values in the tensor\n",
    "print(torch.max(img_tensor), torch.min(img_tensor))"
   ]
  },
  {
   "cell_type": "markdown",
   "metadata": {},
   "source": [
    "It can be seen that the tensors are between 0 and 1."
   ]
  },
  {
   "cell_type": "code",
   "execution_count": 10,
   "metadata": {},
   "outputs": [
    {
     "data": {
      "text/plain": [
       "<matplotlib.image.AxesImage at 0x1a2e7392d10>"
      ]
     },
     "execution_count": 10,
     "metadata": {},
     "output_type": "execute_result"
    },
    {
     "data": {
      "image/png": "[encoded data removed]",
      "text/plain": [
       "<Figure size 640x480 with 1 Axes>"
      ]
     },
     "metadata": {},
     "output_type": "display_data"
    }
   ],
   "source": [
    "# Plotting a portion of the image\n",
    "plt.imshow(img_tensor[0, 10:15, 10:15], cmap = \"gray\")"
   ]
  },
  {
   "cell_type": "markdown",
   "metadata": {},
   "source": [
    "##### Training and Validation Datasets\n",
    "\n",
    "It is a good practice to split the data into 3 different datasets:\n",
    "- Training Dataset\n",
    "- Validation Dataset\n",
    "- Testing Dataset\n",
    "\n",
    "There must be no training on the test dataset."
   ]
  },
  {
   "cell_type": "code",
   "execution_count": 11,
   "metadata": {},
   "outputs": [
    {
     "name": "stdout",
     "output_type": "stream",
     "text": [
      "Size of the new Training Dataset: 50000\n",
      "Size of the Validation Dataset: 10000\n"
     ]
    }
   ],
   "source": [
    "# Splitin the dataset into training and validation\n",
    "train_ds, val_ds = random_split(dataset, [50_000, 10_000])\n",
    "\n",
    "print(f\"Size of the new Training Dataset: {len(train_ds)}\")\n",
    "print(f\"Size of the Validation Dataset: {len(val_ds)}\")"
   ]
  },
  {
   "cell_type": "markdown",
   "metadata": {},
   "source": [
    "Now, defining DataLoader for training and validation datasets"
   ]
  },
  {
   "cell_type": "code",
   "execution_count": 12,
   "metadata": {},
   "outputs": [],
   "source": [
    "batch_size = 128\n",
    "\n",
    "train_loader = DataLoader(train_ds, batch_size = batch_size, shuffle = True)\n",
    "val_loader = DataLoader(val_ds, batch_size = batch_size)"
   ]
  },
  {
   "cell_type": "markdown",
   "metadata": {},
   "source": [
    "##### Model"
   ]
  },
  {
   "cell_type": "code",
   "execution_count": 13,
   "metadata": {},
   "outputs": [],
   "source": [
    "# HyperParameters for the model\n",
    "input_size = 28 * 28\n",
    "num_classes = 10\n",
    "\n",
    "# Logistic Regression Model\n",
    "model = nn.Linear(input_size, num_classes)"
   ]
  },
  {
   "cell_type": "code",
   "execution_count": 14,
   "metadata": {},
   "outputs": [
    {
     "name": "stdout",
     "output_type": "stream",
     "text": [
      "Shape of the weights in the model: torch.Size([10, 784])\n"
     ]
    },
    {
     "data": {
      "text/plain": [
       "Parameter containing:\n",
       "tensor([[ 0.0003,  0.0112, -0.0067,  ...,  0.0079,  0.0026,  0.0172],\n",
       "        [-0.0304,  0.0352, -0.0194,  ...,  0.0003, -0.0127, -0.0218],\n",
       "        [-0.0039, -0.0304,  0.0154,  ..., -0.0223,  0.0332,  0.0190],\n",
       "        ...,\n",
       "        [ 0.0187,  0.0129,  0.0182,  ...,  0.0117, -0.0305,  0.0119],\n",
       "        [ 0.0216, -0.0183, -0.0118,  ...,  0.0254,  0.0342, -0.0271],\n",
       "        [-0.0171,  0.0339,  0.0321,  ...,  0.0199,  0.0140, -0.0051]],\n",
       "       requires_grad=True)"
      ]
     },
     "execution_count": 14,
     "metadata": {},
     "output_type": "execute_result"
    }
   ],
   "source": [
    "print(f\"Shape of the weights in the model: {model.weight.shape}\")\n",
    "model.weight"
   ]
  },
  {
   "cell_type": "code",
   "execution_count": 15,
   "metadata": {},
   "outputs": [
    {
     "name": "stdout",
     "output_type": "stream",
     "text": [
      "Shapew of the bias in the model: torch.Size([10])\n"
     ]
    },
    {
     "data": {
      "text/plain": [
       "Parameter containing:\n",
       "tensor([-0.0218, -0.0235,  0.0130, -0.0319, -0.0025,  0.0127,  0.0121, -0.0237,\n",
       "         0.0043, -0.0038], requires_grad=True)"
      ]
     },
     "execution_count": 15,
     "metadata": {},
     "output_type": "execute_result"
    }
   ],
   "source": [
    "print(f\"Shapew of the bias in the model: {model.bias.shape}\")\n",
    "model.bias"
   ]
  },
  {
   "cell_type": "code",
   "execution_count": 16,
   "metadata": {},
   "outputs": [
    {
     "name": "stdout",
     "output_type": "stream",
     "text": [
      "tensor([5, 7, 1, 3, 8, 3, 6, 1, 1, 5, 8, 4, 6, 7, 6, 3, 0, 1, 0, 6, 2, 0, 0, 8,\n",
      "        2, 3, 0, 1, 1, 0, 2, 0, 1, 1, 3, 1, 6, 2, 9, 1, 7, 7, 8, 5, 9, 1, 1, 9,\n",
      "        8, 5, 2, 6, 8, 2, 6, 8, 1, 2, 7, 5, 0, 0, 9, 2, 1, 9, 7, 0, 6, 4, 4, 2,\n",
      "        9, 8, 1, 3, 8, 6, 3, 4, 2, 3, 3, 3, 7, 7, 6, 4, 0, 8, 1, 1, 8, 6, 5, 7,\n",
      "        6, 4, 3, 0, 1, 4, 4, 7, 6, 7, 2, 7, 9, 8, 2, 3, 9, 3, 3, 9, 2, 6, 3, 7,\n",
      "        5, 1, 3, 0, 2, 5, 4, 7])\n",
      "torch.Size([128, 1, 28, 28])\n"
     ]
    },
    {
     "ename": "RuntimeError",
     "evalue": "mat1 and mat2 shapes cannot be multiplied (3584x28 and 784x10)",
     "output_type": "error",
     "traceback": [
      "\u001b[1;31m---------------------------------------------------------------------------\u001b[0m",
      "\u001b[1;31mRuntimeError\u001b[0m                              Traceback (most recent call last)",
      "Cell \u001b[1;32mIn[16], line 4\u001b[0m\n\u001b[0;32m      2\u001b[0m \u001b[38;5;28mprint\u001b[39m(labels)\n\u001b[0;32m      3\u001b[0m \u001b[38;5;28mprint\u001b[39m(images\u001b[38;5;241m.\u001b[39mshape)\n\u001b[1;32m----> 4\u001b[0m outputs \u001b[38;5;241m=\u001b[39m \u001b[43mmodel\u001b[49m\u001b[43m(\u001b[49m\u001b[43mimages\u001b[49m\u001b[43m)\u001b[49m\n\u001b[0;32m      5\u001b[0m \u001b[38;5;28;01mbreak\u001b[39;00m\n",
      "File \u001b[1;32mc:\\Users\\rahul\\AppData\\Local\\Programs\\Python\\Python311\\Lib\\site-packages\\torch\\nn\\modules\\module.py:1501\u001b[0m, in \u001b[0;36mModule._call_impl\u001b[1;34m(self, *args, **kwargs)\u001b[0m\n\u001b[0;32m   1496\u001b[0m \u001b[38;5;66;03m# If we don't have any hooks, we want to skip the rest of the logic in\u001b[39;00m\n\u001b[0;32m   1497\u001b[0m \u001b[38;5;66;03m# this function, and just call forward.\u001b[39;00m\n\u001b[0;32m   1498\u001b[0m \u001b[38;5;28;01mif\u001b[39;00m \u001b[38;5;129;01mnot\u001b[39;00m (\u001b[38;5;28mself\u001b[39m\u001b[38;5;241m.\u001b[39m_backward_hooks \u001b[38;5;129;01mor\u001b[39;00m \u001b[38;5;28mself\u001b[39m\u001b[38;5;241m.\u001b[39m_backward_pre_hooks \u001b[38;5;129;01mor\u001b[39;00m \u001b[38;5;28mself\u001b[39m\u001b[38;5;241m.\u001b[39m_forward_hooks \u001b[38;5;129;01mor\u001b[39;00m \u001b[38;5;28mself\u001b[39m\u001b[38;5;241m.\u001b[39m_forward_pre_hooks\n\u001b[0;32m   1499\u001b[0m         \u001b[38;5;129;01mor\u001b[39;00m _global_backward_pre_hooks \u001b[38;5;129;01mor\u001b[39;00m _global_backward_hooks\n\u001b[0;32m   1500\u001b[0m         \u001b[38;5;129;01mor\u001b[39;00m _global_forward_hooks \u001b[38;5;129;01mor\u001b[39;00m _global_forward_pre_hooks):\n\u001b[1;32m-> 1501\u001b[0m     \u001b[38;5;28;01mreturn\u001b[39;00m \u001b[43mforward_call\u001b[49m\u001b[43m(\u001b[49m\u001b[38;5;241;43m*\u001b[39;49m\u001b[43margs\u001b[49m\u001b[43m,\u001b[49m\u001b[43m \u001b[49m\u001b[38;5;241;43m*\u001b[39;49m\u001b[38;5;241;43m*\u001b[39;49m\u001b[43mkwargs\u001b[49m\u001b[43m)\u001b[49m\n\u001b[0;32m   1502\u001b[0m \u001b[38;5;66;03m# Do not call functions when jit is used\u001b[39;00m\n\u001b[0;32m   1503\u001b[0m full_backward_hooks, non_full_backward_hooks \u001b[38;5;241m=\u001b[39m [], []\n",
      "File \u001b[1;32mc:\\Users\\rahul\\AppData\\Local\\Programs\\Python\\Python311\\Lib\\site-packages\\torch\\nn\\modules\\linear.py:114\u001b[0m, in \u001b[0;36mLinear.forward\u001b[1;34m(self, input)\u001b[0m\n\u001b[0;32m    113\u001b[0m \u001b[38;5;28;01mdef\u001b[39;00m \u001b[38;5;21mforward\u001b[39m(\u001b[38;5;28mself\u001b[39m, \u001b[38;5;28minput\u001b[39m: Tensor) \u001b[38;5;241m-\u001b[39m\u001b[38;5;241m>\u001b[39m Tensor:\n\u001b[1;32m--> 114\u001b[0m     \u001b[38;5;28;01mreturn\u001b[39;00m \u001b[43mF\u001b[49m\u001b[38;5;241;43m.\u001b[39;49m\u001b[43mlinear\u001b[49m\u001b[43m(\u001b[49m\u001b[38;5;28;43minput\u001b[39;49m\u001b[43m,\u001b[49m\u001b[43m \u001b[49m\u001b[38;5;28;43mself\u001b[39;49m\u001b[38;5;241;43m.\u001b[39;49m\u001b[43mweight\u001b[49m\u001b[43m,\u001b[49m\u001b[43m \u001b[49m\u001b[38;5;28;43mself\u001b[39;49m\u001b[38;5;241;43m.\u001b[39;49m\u001b[43mbias\u001b[49m\u001b[43m)\u001b[49m\n",
      "\u001b[1;31mRuntimeError\u001b[0m: mat1 and mat2 shapes cannot be multiplied (3584x28 and 784x10)"
     ]
    }
   ],
   "source": [
    "for images, labels in train_loader:\n",
    "    print(labels)\n",
    "    print(images.shape)\n",
    "    outputs = model(images)\n",
    "    break"
   ]
  },
  {
   "cell_type": "markdown",
   "metadata": {},
   "source": [
    "Here, we are getting an error because the shape of the weights and input tensors are different. To resolve this we have to flatten the input tensors."
   ]
  },
  {
   "cell_type": "code",
   "execution_count": 17,
   "metadata": {},
   "outputs": [
    {
     "data": {
      "text/plain": [
       "torch.Size([128, 1, 28, 28])"
      ]
     },
     "execution_count": 17,
     "metadata": {},
     "output_type": "execute_result"
    }
   ],
   "source": [
    "images.shape"
   ]
  },
  {
   "cell_type": "code",
   "execution_count": 18,
   "metadata": {},
   "outputs": [
    {
     "data": {
      "text/plain": [
       "torch.Size([128, 784])"
      ]
     },
     "execution_count": 18,
     "metadata": {},
     "output_type": "execute_result"
    }
   ],
   "source": [
    "images.reshape(128, 784).shape"
   ]
  },
  {
   "cell_type": "markdown",
   "metadata": {},
   "source": [
    "Defining a model using the `nn.Module`."
   ]
  },
  {
   "cell_type": "code",
   "execution_count": 19,
   "metadata": {},
   "outputs": [],
   "source": [
    "class MnistModel(nn.Module):\n",
    "    def __init__(self):\n",
    "        super().__init__()\n",
    "\n",
    "        # Initialising a Linear layer\n",
    "        self.linear = nn.Linear(input_size, num_classes)\n",
    "\n",
    "    def forward(self, xb):\n",
    "\n",
    "        # (128, 1, 28, 28) -> (128, 28*28)\n",
    "        xb = xb.reshape(-1, 28 * 28)\n",
    "\n",
    "        # (128, 28*28) -> (128, 10)\n",
    "        out = self.linear(xb)\n",
    "        return out\n",
    "    \n",
    "model = MnistModel()"
   ]
  },
  {
   "cell_type": "code",
   "execution_count": 20,
   "metadata": {},
   "outputs": [
    {
     "data": {
      "text/plain": [
       "Linear(in_features=784, out_features=10, bias=True)"
      ]
     },
     "execution_count": 20,
     "metadata": {},
     "output_type": "execute_result"
    }
   ],
   "source": [
    "model.linear"
   ]
  },
  {
   "cell_type": "code",
   "execution_count": 21,
   "metadata": {},
   "outputs": [
    {
     "name": "stdout",
     "output_type": "stream",
     "text": [
      "Shape of the weights is torch.Size([10, 784]) and bias is torch.Size([10]).\n"
     ]
    },
    {
     "data": {
      "text/plain": [
       "[Parameter containing:\n",
       " tensor([[-0.0326, -0.0039,  0.0347,  ..., -0.0068,  0.0269,  0.0286],\n",
       "         [-0.0182, -0.0111, -0.0015,  ..., -0.0222,  0.0225,  0.0329],\n",
       "         [ 0.0014,  0.0352,  0.0283,  ...,  0.0132,  0.0220,  0.0131],\n",
       "         ...,\n",
       "         [-0.0054, -0.0009, -0.0155,  ..., -0.0106,  0.0221,  0.0069],\n",
       "         [ 0.0097, -0.0099,  0.0307,  ..., -0.0167,  0.0279, -0.0161],\n",
       "         [-0.0128,  0.0077, -0.0143,  ..., -0.0289,  0.0130, -0.0326]],\n",
       "        requires_grad=True),\n",
       " Parameter containing:\n",
       " tensor([ 0.0213, -0.0186, -0.0159, -0.0015, -0.0168,  0.0301,  0.0234,  0.0311,\n",
       "         -0.0152,  0.0201], requires_grad=True)]"
      ]
     },
     "execution_count": 21,
     "metadata": {},
     "output_type": "execute_result"
    }
   ],
   "source": [
    "print(f\"Shape of the weights is {model.linear.weight.shape} and bias is {model.linear.bias.shape}.\")\n",
    "\n",
    "list(model.parameters())"
   ]
  },
  {
   "cell_type": "code",
   "execution_count": 22,
   "metadata": {},
   "outputs": [
    {
     "name": "stdout",
     "output_type": "stream",
     "text": [
      "Output.shape:  torch.Size([128, 10])\n",
      "Sample Outputs:  tensor([[ 0.1908,  0.0241, -0.0554,  0.0748, -0.0475, -0.0593, -0.0501, -0.0712,\n",
      "          0.0733,  0.1020],\n",
      "        [-0.0586,  0.0764, -0.2996, -0.2308, -0.0309,  0.2194,  0.1994,  0.0212,\n",
      "          0.2597, -0.2022]])\n"
     ]
    }
   ],
   "source": [
    "# Making predictions for the first batch of the images\n",
    "for images, labels in train_loader:\n",
    "    outputs = model(images)\n",
    "    break\n",
    "\n",
    "print(\"Output.shape: \", outputs.shape)\n",
    "print(\"Sample Outputs: \", outputs[:2].data)"
   ]
  },
  {
   "cell_type": "markdown",
   "metadata": {},
   "source": [
    "`Output.shape:  torch.Size([128, 10])`: this means that we got 10 predictions for each images."
   ]
  },
  {
   "cell_type": "markdown",
   "metadata": {},
   "source": [
    "The predictions are mix of positive and negative numbers. To make all the predictions positive, we will use `F.softmax` function."
   ]
  },
  {
   "cell_type": "code",
   "execution_count": 23,
   "metadata": {},
   "outputs": [
    {
     "name": "stdout",
     "output_type": "stream",
     "text": [
      "Sample Probabilities: \n",
      " tensor([[0.1184, 0.1002, 0.0926, 0.1054, 0.0933, 0.0922, 0.0931, 0.0911, 0.1053,\n",
      "         0.1083],\n",
      "        [0.0931, 0.1066, 0.0732, 0.0784, 0.0957, 0.1230, 0.1205, 0.1009, 0.1280,\n",
      "         0.0807]])\n",
      "Sum:  0.9999999403953552\n"
     ]
    }
   ],
   "source": [
    "# Apply softmax for each output row\n",
    "probs = F.softmax(outputs, dim = 1)\n",
    "\n",
    "print(\"Sample Probabilities: \\n\", probs[:2].data)\n",
    "\n",
    "print(\"Sum: \", torch.sum(probs[0]).item())"
   ]
  },
  {
   "cell_type": "markdown",
   "metadata": {},
   "source": [
    "The total sum of a single image predictions is equal to `1`."
   ]
  },
  {
   "cell_type": "code",
   "execution_count": 24,
   "metadata": {},
   "outputs": [
    {
     "name": "stdout",
     "output_type": "stream",
     "text": [
      "tensor([0, 8, 3, 7, 8, 3, 1, 4, 1, 4, 9, 1, 6, 8, 3, 9, 9, 7, 3, 6, 3, 1, 8, 3,\n",
      "        6, 9, 4, 9, 0, 9, 3, 9, 3, 3, 0, 3, 1, 5, 7, 1, 8, 8, 3, 1, 9, 3, 3, 1,\n",
      "        3, 3, 4, 0, 6, 9, 6, 7, 9, 8, 1, 4, 3, 3, 9, 6, 1, 5, 8, 8, 1, 3, 9, 5,\n",
      "        3, 4, 1, 6, 5, 3, 0, 9, 4, 8, 4, 4, 0, 3, 8, 3, 1, 3, 1, 1, 3, 4, 1, 5,\n",
      "        3, 7, 5, 9, 1, 1, 7, 5, 1, 4, 3, 3, 3, 8, 4, 9, 3, 9, 7, 6, 3, 0, 3, 8,\n",
      "        3, 5, 9, 0, 3, 3, 0, 5])\n",
      "tensor([0.1184, 0.1280, 0.1551, 0.1243, 0.1230, 0.1525, 0.1278, 0.1177, 0.1132,\n",
      "        0.1296, 0.1285, 0.1112, 0.1243, 0.1149, 0.1204, 0.1156, 0.1283, 0.1219,\n",
      "        0.1320, 0.1255, 0.1694, 0.1298, 0.1373, 0.1274, 0.1174, 0.1207, 0.1301,\n",
      "        0.1083, 0.1199, 0.1103, 0.1503, 0.1155, 0.1288, 0.1174, 0.1204, 0.1442,\n",
      "        0.1232, 0.1533, 0.1193, 0.1301, 0.1463, 0.1145, 0.1251, 0.1204, 0.1246,\n",
      "        0.1256, 0.1352, 0.1183, 0.1208, 0.1241, 0.1336, 0.1390, 0.1164, 0.1345,\n",
      "        0.1382, 0.1257, 0.1395, 0.1189, 0.1293, 0.1211, 0.1459, 0.1361, 0.1251,\n",
      "        0.1162, 0.1276, 0.1261, 0.1326, 0.1208, 0.1161, 0.1171, 0.1250, 0.1127,\n",
      "        0.1176, 0.1274, 0.1432, 0.1149, 0.1452, 0.1163, 0.1064, 0.1204, 0.1207,\n",
      "        0.1465, 0.1098, 0.1112, 0.1274, 0.1603, 0.1529, 0.1329, 0.1154, 0.1475,\n",
      "        0.1217, 0.1264, 0.1322, 0.1354, 0.1159, 0.1382, 0.1228, 0.1242, 0.1202,\n",
      "        0.1283, 0.1213, 0.1355, 0.1233, 0.1231, 0.1341, 0.1205, 0.1303, 0.1265,\n",
      "        0.1220, 0.1106, 0.1386, 0.1331, 0.1200, 0.1244, 0.1220, 0.1355, 0.1191,\n",
      "        0.1250, 0.1161, 0.1251, 0.1403, 0.1279, 0.1138, 0.1340, 0.1358, 0.1279,\n",
      "        0.1307, 0.1394], grad_fn=<MaxBackward0>)\n"
     ]
    }
   ],
   "source": [
    "# Now, by using the torch.max we will be getting the highest probability out of all for a single image, and that will become our final output.\n",
    "max_probs, preds = torch.max(probs, dim = 1)\n",
    "print(preds)\n",
    "print(max_probs)"
   ]
  },
  {
   "cell_type": "markdown",
   "metadata": {},
   "source": [
    "##### Evaluation Metric and Loss function"
   ]
  },
  {
   "cell_type": "code",
   "execution_count": null,
   "metadata": {},
   "outputs": [],
   "source": [
    "def accuracy(outputs, labels):\n",
    "    # Get the predicted class by finding the index of the maximum value along dimension 1\n",
    "    _, preds = torch.max(outputs, dim = 1)\n",
    "    \n",
    "    # Calculate the accuracy by comparing predictions with labels, summing correct predictions,\n",
    "    # and dividing by the total number of predictions\n",
    "    return torch.tensor(torch.sum(preds == labels).item() / len(preds))"
   ]
  },
  {
   "cell_type": "code",
   "execution_count": 26,
   "metadata": {},
   "outputs": [
    {
     "data": {
      "text/plain": [
       "tensor(0.0547)"
      ]
     },
     "execution_count": 26,
     "metadata": {},
     "output_type": "execute_result"
    }
   ],
   "source": [
    "accuracy(outputs, labels)"
   ]
  },
  {
   "cell_type": "code",
   "execution_count": 27,
   "metadata": {},
   "outputs": [],
   "source": [
    "loss_fn = F.cross_entropy"
   ]
  },
  {
   "cell_type": "code",
   "execution_count": 28,
   "metadata": {},
   "outputs": [
    {
     "name": "stdout",
     "output_type": "stream",
     "text": [
      "tensor(2.3430, grad_fn=<NllLossBackward0>)\n"
     ]
    }
   ],
   "source": [
    "# Loss for current batch of data\n",
    "loss = loss_fn(outputs, labels)\n",
    "print(loss)"
   ]
  },
  {
   "cell_type": "markdown",
   "metadata": {},
   "source": [
    "##### Training the Model"
   ]
  },
  {
   "cell_type": "code",
   "execution_count": null,
   "metadata": {},
   "outputs": [],
   "source": [
    "def evaluate(model, val_loader):\n",
    "    # Perform the validation step for each batch in the validation loader\n",
    "    outputs = [model.validation_step(batch) for batch in val_loader]\n",
    "    \n",
    "    # Aggregate and process the validation results from all batches\n",
    "    return model.validation_epoch_end(outputs)"
   ]
  },
  {
   "cell_type": "code",
   "execution_count": null,
   "metadata": {},
   "outputs": [],
   "source": [
    "def fit(epochs, lr, model, train_loader, val_loader, opt_fn = torch.optim.SGD):\n",
    "    # Initialize the optimizer with the model's parameters and learning rate\n",
    "    optimizer = opt_fn(model.parameters(), lr = lr)\n",
    "    history = []  # List to store validation results for each epoch\n",
    "\n",
    "    for epoch in range(epochs):\n",
    "\n",
    "        # Training Phase\n",
    "        for batch in train_loader:\n",
    "            # Perform a single training step for the current batch\n",
    "            loss = model.training_step(batch)\n",
    "            loss.backward()  # Backpropagate the loss\n",
    "            optimizer.step()  # Update the model parameters\n",
    "            optimizer.zero_grad()  # Reset gradients for the next iteration\n",
    "\n",
    "        # Validation Phase\n",
    "        result = evaluate(model, val_loader)  # Evaluate the model on the validation set\n",
    "        model.epoch_end(epoch, result)  # Log or print the results of the current epoch\n",
    "        history.append(result)  # Save the validation result for this epoch\n",
    "\n",
    "    return history  # Return the training history"
   ]
  },
  {
   "cell_type": "markdown",
   "metadata": {},
   "source": [
    "Redefined version of the model class."
   ]
  },
  {
   "cell_type": "code",
   "execution_count": null,
   "metadata": {},
   "outputs": [],
   "source": [
    "class MnistModel(nn.Module):\n",
    "    def __init__(self):\n",
    "        super().__init__()\n",
    "        # Define a single linear layer to map input features to class scores\n",
    "        self.linear = nn.Linear(input_size, num_classes)\n",
    "\n",
    "    def forward(self, xb):\n",
    "        # Reshape the input tensor to flatten the 28x28 images into 784-dimensional vectors\n",
    "        xb = xb.reshape(-1, 28*28)\n",
    "        # Pass the input through the linear layer\n",
    "        out = self.linear(xb)\n",
    "        return out\n",
    "\n",
    "    def training_step(self, batch):\n",
    "        # Extract images and labels from the training batch\n",
    "        images, labels = batch\n",
    "        # Compute the model's output for the images\n",
    "        out = self(images)\n",
    "        # Calculate the cross-entropy loss\n",
    "        loss = F.cross_entropy(out, labels)\n",
    "        return loss\n",
    "\n",
    "    def validation_step(self, batch):\n",
    "        # Extract images and labels from the validation batch\n",
    "        images, labels = batch\n",
    "        # Compute the model's output for the images\n",
    "        out = self(images)\n",
    "        # Calculate the cross-entropy loss\n",
    "        loss = F.cross_entropy(out, labels)\n",
    "        # Calculate the accuracy using the accuracy function\n",
    "        acc = accuracy(out, labels)\n",
    "        # Return a dictionary with validation loss and accuracy\n",
    "        return {\"val_loss\": loss, \"val_acc\": acc}\n",
    "\n",
    "    def validation_epoch_end(self, outputs):\n",
    "        # Collect all validation losses from the batches\n",
    "        batch_losses = [x[\"val_loss\"] for x in outputs]\n",
    "        # Compute the mean loss for the epoch\n",
    "        epoch_loss = torch.stack(batch_losses).mean()\n",
    "        # Collect all validation accuracies from the batches\n",
    "        batch_accs = [x[\"val_acc\"] for x in outputs]\n",
    "        # Compute the mean accuracy for the epoch\n",
    "        batch_acc = torch.stack(batch_accs).mean()\n",
    "        # Return a dictionary with the epoch loss and accuracy\n",
    "        return {\"val_loss\": epoch_loss.item(), \"val_acc\": batch_acc.item()}\n",
    "\n",
    "    def epoch_end(self, epoch, result):\n",
    "        # Print the results for the current epoch\n",
    "        print(\"Epoch [{}], val_loss: {:.4f}, val_acc: {:.4f}\".format(epoch, result[\"val_loss\"], result[\"val_acc\"]))"
   ]
  },
  {
   "cell_type": "code",
   "execution_count": 36,
   "metadata": {},
   "outputs": [],
   "source": [
    "model = MnistModel()"
   ]
  },
  {
   "cell_type": "markdown",
   "metadata": {},
   "source": [
    "Evaluating the model with random parameters."
   ]
  },
  {
   "cell_type": "code",
   "execution_count": 37,
   "metadata": {},
   "outputs": [
    {
     "data": {
      "text/plain": [
       "{'val_loss': 2.321194648742676, 'val_acc': 0.07644382864236832}"
      ]
     },
     "execution_count": 37,
     "metadata": {},
     "output_type": "execute_result"
    }
   ],
   "source": [
    "result0 = evaluate(model, val_loader)\n",
    "result0"
   ]
  },
  {
   "cell_type": "code",
   "execution_count": 38,
   "metadata": {},
   "outputs": [
    {
     "name": "stdout",
     "output_type": "stream",
     "text": [
      "Epoch [0], val_loss: 1.9520, val_acc: 0.6205\n",
      "Epoch [1], val_loss: 1.6797, val_acc: 0.7246\n",
      "Epoch [2], val_loss: 1.4766, val_acc: 0.7628\n",
      "Epoch [3], val_loss: 1.3236, val_acc: 0.7861\n",
      "Epoch [4], val_loss: 1.2060, val_acc: 0.8016\n"
     ]
    }
   ],
   "source": [
    "history1 = fit(5, 0.001, model, train_loader, val_loader)"
   ]
  },
  {
   "cell_type": "code",
   "execution_count": 39,
   "metadata": {},
   "outputs": [
    {
     "name": "stdout",
     "output_type": "stream",
     "text": [
      "Epoch [0], val_loss: 1.1138, val_acc: 0.8129\n",
      "Epoch [1], val_loss: 1.0398, val_acc: 0.8202\n",
      "Epoch [2], val_loss: 0.9792, val_acc: 0.8259\n",
      "Epoch [3], val_loss: 0.9290, val_acc: 0.8306\n",
      "Epoch [4], val_loss: 0.8864, val_acc: 0.8347\n",
      "Epoch [5], val_loss: 0.8501, val_acc: 0.8387\n",
      "Epoch [6], val_loss: 0.8185, val_acc: 0.8422\n",
      "Epoch [7], val_loss: 0.7910, val_acc: 0.8446\n",
      "Epoch [8], val_loss: 0.7667, val_acc: 0.8473\n",
      "Epoch [9], val_loss: 0.7450, val_acc: 0.8498\n"
     ]
    }
   ],
   "source": [
    "history2 = fit(10, 0.001, model, train_loader, val_loader)"
   ]
  },
  {
   "cell_type": "code",
   "execution_count": 40,
   "metadata": {},
   "outputs": [
    {
     "name": "stdout",
     "output_type": "stream",
     "text": [
      "Epoch [0], val_loss: 0.7081, val_acc: 0.8532\n",
      "Epoch [1], val_loss: 0.6777, val_acc: 0.8567\n",
      "Epoch [2], val_loss: 0.6522, val_acc: 0.8593\n",
      "Epoch [3], val_loss: 0.6305, val_acc: 0.8617\n",
      "Epoch [4], val_loss: 0.6117, val_acc: 0.8648\n"
     ]
    }
   ],
   "source": [
    "history3 = fit(5, 0.002, model, train_loader, val_loader)"
   ]
  },
  {
   "cell_type": "code",
   "execution_count": 41,
   "metadata": {},
   "outputs": [
    {
     "name": "stdout",
     "output_type": "stream",
     "text": [
      "Epoch [0], val_loss: 0.5952, val_acc: 0.8665\n",
      "Epoch [1], val_loss: 0.5807, val_acc: 0.8687\n",
      "Epoch [2], val_loss: 0.5678, val_acc: 0.8699\n",
      "Epoch [3], val_loss: 0.5562, val_acc: 0.8714\n",
      "Epoch [4], val_loss: 0.5457, val_acc: 0.8731\n",
      "Epoch [5], val_loss: 0.5362, val_acc: 0.8752\n",
      "Epoch [6], val_loss: 0.5274, val_acc: 0.8762\n",
      "Epoch [7], val_loss: 0.5194, val_acc: 0.8768\n",
      "Epoch [8], val_loss: 0.5120, val_acc: 0.8775\n",
      "Epoch [9], val_loss: 0.5052, val_acc: 0.8785\n"
     ]
    }
   ],
   "source": [
    "history4 = fit(10, 0.002, model, train_loader, val_loader)"
   ]
  },
  {
   "cell_type": "code",
   "execution_count": null,
   "metadata": {},
   "outputs": [
    {
     "data": {
      "image/png": "[encoded data removed]",
      "text/plain": [
       "<Figure size 640x480 with 1 Axes>"
      ]
     },
     "metadata": {},
     "output_type": "display_data"
    }
   ],
   "source": [
    "# Combine results from multiple histories into a single list\n",
    "history = [result0] + history1 + history2 + history3 + history4\n",
    "\n",
    "# Extract validation accuracies from the history\n",
    "accuracies = [result[\"val_acc\"] for result in history]\n",
    "\n",
    "# Plot the validation accuracies over epochs\n",
    "plt.plot(accuracies, \"-x\")  # Use a line with markers to show the trend\n",
    "plt.xlabel(\"Epoch\")         # Label for the x-axis\n",
    "plt.ylabel(\"Accuracy\")      # Label for the y-axis\n",
    "plt.title(\"Accuracy vs. Epoch\")  # Title of the plot\n",
    "plt.show()                  # Display the plot"
   ]
  },
  {
   "cell_type": "markdown",
   "metadata": {},
   "source": [
    "##### Now, testing the model on the unseen images"
   ]
  },
  {
   "cell_type": "code",
   "execution_count": 43,
   "metadata": {},
   "outputs": [],
   "source": [
    "test_dataset = datasets.MNIST(root = \"data/\",\n",
    "                              train = False,\n",
    "                              transform = transforms.ToTensor())"
   ]
  },
  {
   "cell_type": "code",
   "execution_count": 44,
   "metadata": {},
   "outputs": [
    {
     "name": "stdout",
     "output_type": "stream",
     "text": [
      "Shape:  torch.Size([1, 28, 28])\n",
      "Label:  7\n"
     ]
    },
    {
     "data": {
      "image/png": "[encoded data removed]",
      "text/plain": [
       "<Figure size 640x480 with 1 Axes>"
      ]
     },
     "metadata": {},
     "output_type": "display_data"
    }
   ],
   "source": [
    "img, label = test_dataset[0]\n",
    "plt.imshow(img[0], cmap = \"gray\")\n",
    "print(\"Shape: \", img.shape)\n",
    "print(\"Label: \", label)"
   ]
  },
  {
   "cell_type": "code",
   "execution_count": 47,
   "metadata": {},
   "outputs": [],
   "source": [
    "def predict_image(img, model):\n",
    "    xb = img.unsqueeze(0)\n",
    "    yb = model(xb)\n",
    "    _, preds = torch.max(yb, dim = 1)\n",
    "    return preds[0].item()"
   ]
  },
  {
   "cell_type": "code",
   "execution_count": 48,
   "metadata": {},
   "outputs": [
    {
     "name": "stdout",
     "output_type": "stream",
     "text": [
      "Label:  7 , Predicted:  7\n"
     ]
    },
    {
     "data": {
      "image/png": "[encoded data removed]",
      "text/plain": [
       "<Figure size 640x480 with 1 Axes>"
      ]
     },
     "metadata": {},
     "output_type": "display_data"
    }
   ],
   "source": [
    "img, label = test_dataset[0]\n",
    "plt.imshow(img[0], cmap = \"gray\")\n",
    "print(\"Label: \", label, \", Predicted: \", predict_image(img, model))"
   ]
  },
  {
   "cell_type": "code",
   "execution_count": 50,
   "metadata": {},
   "outputs": [
    {
     "name": "stdout",
     "output_type": "stream",
     "text": [
      "Label:  0 , Predicted:  0\n"
     ]
    },
    {
     "data": {
      "image/png": "[encoded data removed]",
      "text/plain": [
       "<Figure size 640x480 with 1 Axes>"
      ]
     },
     "metadata": {},
     "output_type": "display_data"
    }
   ],
   "source": [
    "img, label = test_dataset[10]\n",
    "plt.imshow(img[0], cmap = \"gray\")\n",
    "print(\"Label: \", label, \", Predicted: \", predict_image(img, model))"
   ]
  },
  {
   "cell_type": "code",
   "execution_count": 51,
   "metadata": {},
   "outputs": [
    {
     "name": "stdout",
     "output_type": "stream",
     "text": [
      "Label:  6 , Predicted:  6\n"
     ]
    },
    {
     "data": {
      "image/png": "[encoded data removed]",
      "text/plain": [
       "<Figure size 640x480 with 1 Axes>"
      ]
     },
     "metadata": {},
     "output_type": "display_data"
    }
   ],
   "source": [
    "img, label = test_dataset[123]\n",
    "plt.imshow(img[0], cmap = \"gray\")\n",
    "print(\"Label: \", label, \", Predicted: \", predict_image(img, model))"
   ]
  },
  {
   "cell_type": "code",
   "execution_count": 52,
   "metadata": {},
   "outputs": [
    {
     "name": "stdout",
     "output_type": "stream",
     "text": [
      "Label:  9 , Predicted:  3\n"
     ]
    },
    {
     "data": {
      "image/png": "[encoded data removed]",
      "text/plain": [
       "<Figure size 640x480 with 1 Axes>"
      ]
     },
     "metadata": {},
     "output_type": "display_data"
    }
   ],
   "source": [
    "img, label = test_dataset[193]\n",
    "plt.imshow(img[0], cmap = \"gray\")\n",
    "print(\"Label: \", label, \", Predicted: \", predict_image(img, model))"
   ]
  },
  {
   "cell_type": "code",
   "execution_count": 53,
   "metadata": {},
   "outputs": [
    {
     "data": {
      "text/plain": [
       "{'val_loss': 0.4824333190917969, 'val_acc': 0.8818359375}"
      ]
     },
     "execution_count": 53,
     "metadata": {},
     "output_type": "execute_result"
    }
   ],
   "source": [
    "test_loader = DataLoader(test_dataset, batch_size = 256)\n",
    "result = evaluate(model, test_loader)\n",
    "result"
   ]
  },
  {
   "cell_type": "markdown",
   "metadata": {},
   "source": [
    "##### Saving and Loading the model"
   ]
  },
  {
   "cell_type": "code",
   "execution_count": 54,
   "metadata": {},
   "outputs": [],
   "source": [
    "torch.save(model.state_dict(), \"mnist-logistic.pth\")"
   ]
  },
  {
   "cell_type": "code",
   "execution_count": 55,
   "metadata": {},
   "outputs": [
    {
     "data": {
      "text/plain": [
       "OrderedDict([('linear.weight',\n",
       "              tensor([[-0.0023,  0.0331, -0.0228,  ..., -0.0355,  0.0139, -0.0298],\n",
       "                      [ 0.0214,  0.0141, -0.0200,  ...,  0.0008, -0.0013,  0.0315],\n",
       "                      [ 0.0274,  0.0317,  0.0016,  ...,  0.0332,  0.0259, -0.0212],\n",
       "                      ...,\n",
       "                      [ 0.0188,  0.0154, -0.0154,  ..., -0.0237,  0.0221,  0.0132],\n",
       "                      [-0.0301,  0.0183, -0.0017,  ..., -0.0264, -0.0081,  0.0165],\n",
       "                      [ 0.0270,  0.0274, -0.0249,  ...,  0.0262,  0.0297, -0.0285]])),\n",
       "             ('linear.bias',\n",
       "              tensor([-0.0469,  0.1015, -0.0136, -0.0298,  0.0412,  0.1222, -0.0323,  0.1068,\n",
       "                      -0.1556, -0.0172]))])"
      ]
     },
     "execution_count": 55,
     "metadata": {},
     "output_type": "execute_result"
    }
   ],
   "source": [
    "model.state_dict()"
   ]
  },
  {
   "cell_type": "markdown",
   "metadata": {},
   "source": [
    "To load the model, first we should provide the structure of the model, this can be done by initialising the model and then loading the parameters on the model."
   ]
  },
  {
   "cell_type": "code",
   "execution_count": 56,
   "metadata": {},
   "outputs": [
    {
     "data": {
      "text/plain": [
       "<All keys matched successfully>"
      ]
     },
     "execution_count": 56,
     "metadata": {},
     "output_type": "execute_result"
    }
   ],
   "source": [
    "model2 = MnistModel()\n",
    "model2.load_state_dict(torch.load(\"mnist-logistic.pth\"))"
   ]
  },
  {
   "cell_type": "code",
   "execution_count": 57,
   "metadata": {},
   "outputs": [
    {
     "data": {
      "text/plain": [
       "{'val_loss': 0.4824333190917969, 'val_acc': 0.8818359375}"
      ]
     },
     "execution_count": 57,
     "metadata": {},
     "output_type": "execute_result"
    }
   ],
   "source": [
    "result2 = evaluate(model2, test_loader)\n",
    "result2"
   ]
  }
 ],
 "metadata": {
  "kernelspec": {
   "display_name": "Python 3",
   "language": "python",
   "name": "python3"
  },
  "language_info": {
   "codemirror_mode": {
    "name": "ipython",
    "version": 3
   },
   "file_extension": ".py",
   "mimetype": "text/x-python",
   "name": "python",
   "nbconvert_exporter": "python",
   "pygments_lexer": "ipython3",
   "version": "3.11.8"
  }
 },
 "nbformat": 4,
 "nbformat_minor": 2
}
