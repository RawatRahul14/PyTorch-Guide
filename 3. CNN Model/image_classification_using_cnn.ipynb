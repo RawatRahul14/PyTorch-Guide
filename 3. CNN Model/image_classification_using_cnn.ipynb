{
 "cells": [
  {
   "cell_type": "code",
   "execution_count": 1,
   "metadata": {},
   "outputs": [
    {
     "name": "stderr",
     "output_type": "stream",
     "text": [
      "c:\\Users\\rahul\\AppData\\Local\\Programs\\Python\\Python311\\Lib\\site-packages\\tqdm\\auto.py:21: TqdmWarning: IProgress not found. Please update jupyter and ipywidgets. See https://ipywidgets.readthedocs.io/en/stable/user_install.html\n",
      "  from .autonotebook import tqdm as notebook_tqdm\n"
     ]
    }
   ],
   "source": [
    "import os\n",
    "import torch\n",
    "import torchvision\n",
    "from torch.utils.data import random_split\n",
    "\n",
    "import kagglehub\n",
    "\n",
    "from pathlib import Path"
   ]
  },
  {
   "cell_type": "code",
   "execution_count": 4,
   "metadata": {},
   "outputs": [
    {
     "name": "stdout",
     "output_type": "stream",
     "text": [
      "Data is already downloaded.\n"
     ]
    }
   ],
   "source": [
    "destination = Path(\"./data\")\n",
    "\n",
    "try:\n",
    "    if os.path.exists(\"data\"):\n",
    "        print(\"Data is already downloaded.\")\n",
    "    \n",
    "    else:\n",
    "        # Downloading the Dataset from kaggle using the Kagglehub\n",
    "        print(\"<-------- Downloading the Dataset -------->\")\n",
    "        path = kagglehub.dataset_download(\"oxcdcd/cifar10\")\n",
    "\n",
    "        # Move the dataset to the project folder\n",
    "        print(\"<-------- Moving the Dataset -------->\")\n",
    "        source = Path(path)\n",
    "\n",
    "        try:\n",
    "            os.rename(source, destination)\n",
    "            print(f\"File moved from {source} to {destination}\")\n",
    "        except FileNotFoundError:\n",
    "            print(\"The source file does not exist.\")\n",
    "        except Exception as e:\n",
    "            print(f\"Error: {e}\")\n",
    "\n",
    "except Exception as e:\n",
    "    raise e"
   ]
  },
  {
   "cell_type": "code",
   "execution_count": 7,
   "metadata": {},
   "outputs": [
    {
     "name": "stdout",
     "output_type": "stream",
     "text": [
      "Directories/files inside the folder: ['labels.txt', 'test', 'train']\n"
     ]
    }
   ],
   "source": [
    "dataset_path = os.path.join(destination, \"cifar10\")\n",
    "print(f\"Directories/files inside the folder: {os.listdir(dataset_path)}\")"
   ]
  },
  {
   "cell_type": "code",
   "execution_count": 8,
   "metadata": {},
   "outputs": [],
   "source": [
    "labels_path = os.path.join(dataset_path, \"labels.txt\")\n",
    "train_path = os.path.join(dataset_path, \"train\")\n",
    "test_path = os.path.join(dataset_path, \"test\")"
   ]
  },
  {
   "cell_type": "code",
   "execution_count": 9,
   "metadata": {},
   "outputs": [
    {
     "name": "stdout",
     "output_type": "stream",
     "text": [
      "Names of the classes in the dataset :['airplane', 'automobile', 'bird', 'cat', 'deer', 'dog', 'frog', 'horse', 'ship', 'truck']\n"
     ]
    }
   ],
   "source": [
    "# Different classification classes in the dataset\n",
    "classes = os.listdir(train_path)\n",
    "print(f\"Names of the classes in the dataset :{classes}\")"
   ]
  },
  {
   "cell_type": "markdown",
   "metadata": {},
   "source": [
    "`ImageFolder` is a class provided by PyTorch's `torchvision.datasets` module. It is used for loading image datasets that are organized in a specific directory structure. It simplifies the process of loading and preprocessing image data for training and evaluation of machine learning models."
   ]
  },
  {
   "cell_type": "code",
   "execution_count": 13,
   "metadata": {},
   "outputs": [],
   "source": [
    "from torchvision.datasets import ImageFolder\n",
    "from torchvision import transforms"
   ]
  },
  {
   "cell_type": "code",
   "execution_count": null,
   "metadata": {},
   "outputs": [],
   "source": [
    "# Applying different tranformations on the images\n",
    "transform = transforms.Compose([\n",
    "    transforms.Resize((32, 32)),\n",
    "    transforms.ToTensor()\n",
    "])\n",
    "\n",
    "# Using the `ImageFolder` class to load a dataset of images at train_path\n",
    "dataset = ImageFolder(train_path, transform = transform)"
   ]
  },
  {
   "cell_type": "code",
   "execution_count": 16,
   "metadata": {},
   "outputs": [],
   "source": [
    "def img_label(idx: int):\n",
    "\n",
    "    # Retrieve the image and label from the dataset using the provided index\n",
    "    img, label = dataset[idx]\n",
    "\n",
    "    # Print the shape of the image and its corresponding label\n",
    "    print(f\"Shape of the Image is {img.shape} and it's label is {label}\")"
   ]
  },
  {
   "cell_type": "code",
   "execution_count": null,
   "metadata": {},
   "outputs": [
    {
     "name": "stdout",
     "output_type": "stream",
     "text": [
      "Shape of the Image is torch.Size([3, 32, 32]) and it's label is 0\n",
      "Shape of the Image is torch.Size([3, 32, 32]) and it's label is 9\n"
     ]
    }
   ],
   "source": [
    "# Example 1: Retrieve and print the details of the first image in the dataset\n",
    "img_label(idx = 0)\n",
    "\n",
    "# Example 2: Retrieve and print the details of the image at index 47365\n",
    "img_label(idx = 47365)"
   ]
  },
  {
   "cell_type": "code",
   "execution_count": null,
   "metadata": {},
   "outputs": [],
   "source": [
    "import matplotlib\n",
    "import matplotlib.pyplot as plt\n",
    "%matplotlib inline\n",
    "\n",
    "# Set the background color of all plots to white\n",
    "matplotlib.rcParams[\"figure.facecolor\"] = \"#ffffff\""
   ]
  },
  {
   "cell_type": "code",
   "execution_count": null,
   "metadata": {},
   "outputs": [],
   "source": [
    "def show_example(idx: int):\n",
    "\n",
    "    # Retrieve the image and label from the dataset using the provided index\n",
    "    img, label = dataset[idx]\n",
    "\n",
    "    # Print the class name and label corresponding to the image\n",
    "    # dataset.classes[label] gives the class name, and str(label) gives the numerical label\n",
    "    print(f\"Label of the image with the index {idx}: {dataset.classes[label]}({str(label)}).\")\n",
    "\n",
    "    # The image is in (C x H x W) format, so permute it to H x W x C for proper display\n",
    "    # `permute(1, 2, 0)` changes the order of dimensions: from (C, H, W) to (H, W, C)\n",
    "    # This is necessary because matplotlib expects the color channels to be the last dimension.\n",
    "    plt.imshow(img.permute(1, 2, 0))"
   ]
  },
  {
   "cell_type": "code",
   "execution_count": null,
   "metadata": {},
   "outputs": [
    {
     "name": "stdout",
     "output_type": "stream",
     "text": [
      "Label of the image with the index 0: airplane(0).\n"
     ]
    },
    {
     "data": {
      "image/png": "[encoded data removed]",
      "text/plain": [
       "<Figure size 640x480 with 1 Axes>"
      ]
     },
     "metadata": {},
     "output_type": "display_data"
    }
   ],
   "source": [
    "# Call the function show_example with idx = 0 to display the image at index 0 from the dataset\n",
    "show_example(idx = 0)"
   ]
  }
 ],
 "metadata": {
  "kernelspec": {
   "display_name": "Python 3",
   "language": "python",
   "name": "python3"
  },
  "language_info": {
   "codemirror_mode": {
    "name": "ipython",
    "version": 3
   },
   "file_extension": ".py",
   "mimetype": "text/x-python",
   "name": "python",
   "nbconvert_exporter": "python",
   "pygments_lexer": "ipython3",
   "version": "3.11.8"
  }
 },
 "nbformat": 4,
 "nbformat_minor": 2
}
